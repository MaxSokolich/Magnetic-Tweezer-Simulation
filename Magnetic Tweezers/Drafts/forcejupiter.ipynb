{
 "cells": [
  {
   "cell_type": "markdown",
   "metadata": {},
   "source": [
    "MAGNETIC FORCE ANALYSIS\n",
    "\n",
    "When a magnetic particle is placed inside a magnetic field, \n",
    "it will be magnetized, and in turn alter its surrounding magnetic field. \n",
    "The magnetic force experienced by the magnetic particle is then determined \n",
    "by the particle’s magnetization and the altered field. To calculate the \n",
    "magnetic force using the original magnetic field, the effective magnetization \n",
    "of the particle should be used. For a spherical par- ticle, \n",
    "its effective magnetization is proportional to the external magnetic field [31] \n",
    "until the magnetization saturates."
   ]
  },
  {
   "cell_type": "code",
   "execution_count": 2,
   "metadata": {},
   "outputs": [],
   "source": [
    "import numpy as np\n",
    "import matplotlib.pyplot as plt\n",
    "\n",
    "milli = (10**(-3))\n",
    "micro = (10**(-6))\n",
    "nano = (10**(-9))\n",
    "pico = (10**(-12))"
   ]
  },
  {
   "cell_type": "code",
   "execution_count": 27,
   "metadata": {},
   "outputs": [],
   "source": [
    "#System Properties\n",
    "perm0 = ((4*np.pi)*(10**(-7)))\n",
    "Pole_Pole_Distance = 405 * 2 * micro\n",
    "km = (perm0/4*np.pi)\n",
    "L = (Pole_Pole_Distance/2) # length to center of workspace\n",
    "\n",
    "I_max = 2 #A\n",
    "\n",
    "\n",
    "I1 = 0 #Left\n",
    "I2 = 0 #Top\n",
    "I3 = 0 #Bottom\n",
    "I4 = 1 #Right\n",
    "\n",
    "#Microsphere Properites\n",
    "Bead_Diameter = (4.5 *micro)\n",
    "perm_bead = 0.000375\n",
    " \n",
    "measurement_location = [200*micro,200*micro]\n",
    "\n",
    "Volume = ((4/3)*np.pi*((Bead_Diameter/2)**2))\n",
    "NTurns = 21\n",
    "reluctance = 1790493109.7\n",
    "\n"
   ]
  },
  {
   "cell_type": "code",
   "execution_count": 28,
   "metadata": {},
   "outputs": [
    {
     "name": "stdout",
     "output_type": "stream",
     "text": [
      "Ki_hat =  0.0007806102004528298\n"
     ]
    }
   ],
   "source": [
    "#coefficient related to the properties of the magnetic particle and themagnetic tweezers\n",
    "kQ = (3*Volume*(km**2)*(perm_bead - perm0))/(2*perm0*(L**5)*(perm_bead+(2*perm0)))\n",
    "\n",
    "ki = (kQ * ((NTurns/(perm0*reluctance))**2)) #lumped coefficent related to the particle and magnetic curcuit properites\n",
    "\n",
    "ki_hat = ki * (I_max**2)\n",
    "print(\"Ki_hat = \", ki_hat)"
   ]
  },
  {
   "cell_type": "markdown",
   "metadata": {},
   "source": [
    "As magnetic poles saturate when excessive current is applied,\n",
    "the input current is therefore limited to Im a x , which is the maximum current. Normalizing the current vector by dividing I by Im a x , the force model can be rewritten as\n",
    "\n",
    "With normalization of the input current, the normalized force Fˆ becomes dimensionless, and kIˆ is the lumped force gain that has the unit of Newton and is related to the particle properties, magnetic circuit properties, and the maximum input current."
   ]
  },
  {
   "cell_type": "code",
   "execution_count": 29,
   "metadata": {},
   "outputs": [
    {
     "data": {
      "text/plain": [
       "Text(0, 0.5, 'Y (m)')"
      ]
     },
     "execution_count": 29,
     "metadata": {},
     "output_type": "execute_result"
    },
    {
     "data": {
      "image/png": "[encoded data removed]",
      "text/plain": [
       "<Figure size 432x288 with 1 Axes>"
      ]
     },
     "metadata": {
      "needs_background": "light"
     },
     "output_type": "display_data"
    }
   ],
   "source": [
    "'''\n",
    "Timeout to plot vector directions from each pole\n",
    "'''\n",
    "Left_Pole_Origin = [-Pole_Pole_Distance/2,0]\n",
    "Top_Pole_Origin = [0,Pole_Pole_Distance/2]\n",
    "Right_Pole_Origin = [Pole_Pole_Distance/2,0]\n",
    "Bottom_Pole_Origin = [0,-Pole_Pole_Distance/2]\n",
    "\n",
    "\n",
    "def r_vector(pole_pos, measurement_location):\n",
    "    '''\n",
    "    returns a 2D array fector in direction of microbot from desired pole\n",
    "    '''\n",
    "    x1 = pole_pos[0]\n",
    "    y1 = pole_pos[1]\n",
    "    \n",
    "    x2 = measurement_location[0]\n",
    "    y2 = measurement_location[1]\n",
    "    r_vector = np.array([(x2-x1),(y2-y1)])\n",
    " \n",
    "    return r_vector\n",
    "\n",
    "def r_distance(pole_pos, measurement_location):\n",
    "    '''\n",
    "    returns a scalar distance desired pole to microbot\n",
    "    not the normalized sistance r/L\n",
    "    '''\n",
    "    x1 = pole_pos[0]\n",
    "    y1 = pole_pos[1]\n",
    "    \n",
    "    x2 = measurement_location[0]\n",
    "    y2 = measurement_location[1]\n",
    "    \n",
    "    r_dist = (np.sqrt((x2-x1)**2 + (y2-y1)**2))\n",
    "    return r_dist\n",
    "   \n",
    "\n",
    "#Assigns disances to microbot from each pole to a variable\n",
    "Left_Pole_Dist = r_distance(Left_Pole_Origin, measurement_location)\n",
    "Top_Pole_Dist = r_distance(Top_Pole_Origin, measurement_location)\n",
    "Right_Pole_Dist = r_distance(Right_Pole_Origin, measurement_location)\n",
    "Bottom_Pole_Dist = r_distance(Bottom_Pole_Origin, measurement_location)\n",
    "\n",
    "#Assigns direction to microbot from each pole to a variable\n",
    "Left_Pole_Vector = r_vector(Left_Pole_Origin, measurement_location)/Left_Pole_Dist \n",
    "Top_Pole_Vector = r_vector(Top_Pole_Origin, measurement_location)/Top_Pole_Dist\n",
    "Right_Pole_Vector = r_vector(Right_Pole_Origin, measurement_location)/Right_Pole_Dist\n",
    "Bottom_Pole_Vector = r_vector(Bottom_Pole_Origin, measurement_location)/Bottom_Pole_Dist\n",
    "\n",
    "#plot microbot\n",
    "\n",
    "\n",
    "plt.scatter(measurement_location[0],measurement_location[1],s=100,facecolors = \"k\")\n",
    "\n",
    "\n",
    "    \n",
    "#plot the vectors from each pole to microbot    \n",
    "plt.quiver(Left_Pole_Origin[0],Left_Pole_Origin[1] ,Left_Pole_Vector[0] , Left_Pole_Vector[1],color='r', scale = None)\n",
    "plt.quiver(Top_Pole_Origin[0],Top_Pole_Origin[1] ,Top_Pole_Vector[0] , Top_Pole_Vector[1],color='b',scale = None)\n",
    "plt.quiver(Right_Pole_Origin[0],Right_Pole_Origin[1] ,Right_Pole_Vector[0] , Right_Pole_Vector[1],color='g',scale = None)\n",
    "plt.quiver(Bottom_Pole_Origin[0],Bottom_Pole_Origin[1] ,Bottom_Pole_Vector[0] , Bottom_Pole_Vector[1],color='y',scale = None)\n",
    "\n",
    "\n",
    "#plt.quiver(Left_Pole_Origin, V[0], V[1], color=['r','b','g'])\n",
    "plt.xlim(-(Pole_Pole_Distance/2),(Pole_Pole_Distance/2))\n",
    "plt.ylim(-(Pole_Pole_Distance/2),(Pole_Pole_Distance/2))\n",
    "plt.xlabel(\"X (m)\")\n",
    "plt.ylabel(\"Y (m)\")\n",
    "\n"
   ]
  },
  {
   "cell_type": "markdown",
   "metadata": {},
   "source": [
    "where L is a 4×4 matrix ,each item of which is a vector L(j,k)=∇[(uj ·uk) (rˆjrˆk)], Q=[q1 q2 q3 q4 ] is the vector of magnetic charges, and rˆ = r/l is the normal- ized distance. Equation (6) indicates that the magnetic force is nonlinear with respect to the magnetic charge vector Q and is position dependent, as suggested by matrix L."
   ]
  },
  {
   "cell_type": "code",
   "execution_count": 30,
   "metadata": {},
   "outputs": [
    {
     "name": "stdout",
     "output_type": "stream",
     "text": [
      "L matrix = \n",
      " [[[-3.79786024 -1.25549099]\n",
      "  [-0.51923304  0.12664519]\n",
      "  [ 0.55646384  2.41031883]\n",
      "  [-0.99559513 -0.99559513]]\n",
      "\n",
      " [[-0.51923304  0.12664519]\n",
      "  [-2.79329541  2.86312779]\n",
      "  [-0.06981642 -0.06981642]\n",
      "  [ 2.41031883  0.55646384]]\n",
      "\n",
      " [[ 0.55646384  2.41031883]\n",
      "  [-0.06981642 -0.06981642]\n",
      "  [ 2.86312779 -2.79329541]\n",
      "  [ 0.12664519 -0.51923304]]\n",
      "\n",
      " [[-0.99559513 -0.99559513]\n",
      "  [ 2.41031883  0.55646384]\n",
      "  [ 0.12664519 -0.51923304]\n",
      "  [-1.25549099 -3.79786024]]]\n"
     ]
    }
   ],
   "source": [
    "#L Matrix Calculations, The L matrix describes positional graidents from poles to mbot\n",
    "\"\"\"\n",
    "L is a 4x4 matri,each item of which is a vector\n",
    "L = [[L11,L12,L13,L14],\n",
    "    [L21,L22,L23,L24],\n",
    "    [L31,L32,L33,L34],\n",
    "    [L41,L42,L43,L44]]\n",
    "\"\"\"\n",
    "Ll= np.array([[1,1,2,4],\n",
    "    [1,1,2,4],\n",
    "    [1,1,2,4],\n",
    "    [1,1,2,4]])\n",
    "\n",
    "Q1 = np.array([[1],[1],[1],[1]])\n",
    "\n",
    "\n",
    "\n",
    "\n",
    "L_matrix = []\n",
    "\n",
    "r_dist = [Left_Pole_Dist,Top_Pole_Dist,Right_Pole_Dist,Bottom_Pole_Dist]\n",
    "\n",
    "r_vect_j = [Left_Pole_Vector,Top_Pole_Vector,Right_Pole_Vector,Bottom_Pole_Vector]\n",
    "r_vect_k = [Left_Pole_Vector,Top_Pole_Vector,Right_Pole_Vector,Bottom_Pole_Vector]\n",
    "\n",
    "\n",
    "for j in r_vect_j:\n",
    "    for k in r_vect_k:\n",
    "        \n",
    "        rdj = (np.linalg.norm(j))\n",
    "        rdk = (np.linalg.norm(k))\n",
    "        \n",
    "        coef = 1/((rdj**3)*(rdk**3))\n",
    "        \n",
    "        Leftside = (1- (3*(np.dot(j,k))/(rdk**2)))*k\n",
    "        Rightside = (1- (3*(np.dot(j,k))/(rdj**2)))*j\n",
    "        \n",
    "        L = coef * (Leftside + Rightside)\n",
    "        \n",
    "        L_matrix.append(L)\n",
    "        \n",
    "        \n",
    "L_matrix_nump = np.array(L_matrix).reshape((4,4,2))\n",
    "print(\"L matrix = \\n\", L_matrix_nump)"
   ]
  },
  {
   "cell_type": "code",
   "execution_count": null,
   "metadata": {},
   "outputs": [],
   "source": []
  },
  {
   "cell_type": "code",
   "execution_count": 31,
   "metadata": {},
   "outputs": [
    {
     "name": "stdout",
     "output_type": "stream",
     "text": [
      "Fx [[-0.00013113]]\n",
      "Fy [[-0.00013296]]\n"
     ]
    },
    {
     "data": {
      "text/plain": [
       "<matplotlib.quiver.Quiver at 0x11d7f3390>"
      ]
     },
     "execution_count": 31,
     "metadata": {},
     "output_type": "execute_result"
    },
    {
     "data": {
      "image/png": "[encoded data removed]",
      "text/plain": [
       "<Figure size 432x288 with 1 Axes>"
      ]
     },
     "metadata": {
      "needs_background": "light"
     },
     "output_type": "display_data"
    }
   ],
   "source": [
    "#F Matrix Calculations, TThe magnetic force on the magnetic bead \n",
    "\"\"\"\n",
    "F = (kq) * Fq_vect\n",
    "\n",
    "where Fq_vect  = Q.transpose *L * Q\n",
    "\"\"\"\n",
    "Ra = (1.8*(10**9))\n",
    "\n",
    "\n",
    "\n",
    "#matrix KI is the distribution matrix of the magnetic flux.\n",
    "KI = np.array([[3/4, -1/4, -1/4, -1/4],  \n",
    "              [-1/4, 3/4, -1/4, -1/4],\n",
    "              [-1/4, -1/4, 3/4, -1/4],\n",
    "              [-1/4, -1/4, -1/4, 3/4]])\n",
    "\n",
    "I_matrix = np.array([I1,I2,I3,I4])\n",
    "\n",
    "Q_Matric_Const = (NTurns/(perm0*Ra))\n",
    "Qmatrix = np.array([Q_Matric_Const * (KI @ I_matrix)])\n",
    "\n",
    "L_matrix_nump_X = L_matrix_nump[:,:,0]\n",
    "L_matrix_nump_Y = L_matrix_nump[:,:,1]\n",
    "\n",
    "Fx = np.matmul(np.matmul(Qmatrix,   L_matrix_nump_X) , Qmatrix.transpose())\n",
    "Fy = np.matmul(np.matmul(Qmatrix,   L_matrix_nump_Y) , Qmatrix.transpose())\n",
    "print(\"Fx\", Fx)\n",
    "print(\"Fy\", Fy)\n",
    "\n",
    "plt.quiver(measurement_location[0],measurement_location[1] ,Fx, Fy,color='k', scale = None)\n",
    "\n",
    "\n",
    "\n",
    "\n",
    "#I Matrix stuff\n",
    "\n",
    "\n",
    "      "
   ]
  },
  {
   "cell_type": "code",
   "execution_count": null,
   "metadata": {},
   "outputs": [],
   "source": []
  },
  {
   "cell_type": "code",
   "execution_count": null,
   "metadata": {},
   "outputs": [],
   "source": []
  }
 ],
 "metadata": {
  "kernelspec": {
   "display_name": "Python 3",
   "language": "python",
   "name": "python3"
  },
  "language_info": {
   "codemirror_mode": {
    "name": "ipython",
    "version": 3
   },
   "file_extension": ".py",
   "mimetype": "text/x-python",
   "name": "python",
   "nbconvert_exporter": "python",
   "pygments_lexer": "ipython3",
   "version": "3.7.4"
  }
 },
 "nbformat": 4,
 "nbformat_minor": 2
}
